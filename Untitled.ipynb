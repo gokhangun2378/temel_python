{
 "cells": [
  {
   "cell_type": "markdown",
   "metadata": {},
   "source": [
    "Programda kullanıcı Adı ve şifre doğru kontrol edilmesi."
   ]
  },
  {
   "cell_type": "code",
   "execution_count": 13,
   "metadata": {
    "scrolled": true
   },
   "outputs": [
    {
     "name": "stdout",
     "output_type": "stream",
     "text": [
      "yanlış\n"
     ]
    }
   ],
   "source": [
    "kullanici_adi='gokha'\n",
    "sifre='1234'\n",
    "kontrol=(kullanici_adi=='gokhan') and (sifre=='1234')\n",
    "if kontrol:\n",
    "    print('Hoş geldin')\n",
    "else:\n",
    "    print('yanlış')\n",
    "    "
   ]
  },
  {
   "cell_type": "markdown",
   "metadata": {},
   "source": [
    "Klavyeden kullanıcı adı ve şifresi girişi isteme ve doğruluğunu kontrol edilmesi"
   ]
  },
  {
   "cell_type": "code",
   "execution_count": 15,
   "metadata": {},
   "outputs": [
    {
     "name": "stdout",
     "output_type": "stream",
     "text": [
      "Kullanici adini giriniz.gokhan\n",
      "Kullanici adini giriniz.1234\n",
      "Hoş geldin\n"
     ]
    }
   ],
   "source": [
    "kullanici_adi= input('Kullanici adini giriniz.')# klavyeden değer girme\n",
    "sifre= input('Kullanici adini giriniz.')\n",
    "\n",
    "kontrol=(kullanici_adi=='gokhan') and (sifre=='1234')\n",
    "if kontrol:\n",
    "    print('Hoş geldin')\n",
    "else:\n",
    "    print('yanlış')"
   ]
  },
  {
   "cell_type": "markdown",
   "metadata": {},
   "source": [
    "Kullanıcı kullanıcı adı ve şifre girişi istenmesi ve kontrolun yapılması Yanlış olanın bilgisi verme."
   ]
  },
  {
   "cell_type": "code",
   "execution_count": 18,
   "metadata": {},
   "outputs": [
    {
     "name": "stdout",
     "output_type": "stream",
     "text": [
      "Kullanici adini giriniz.gok\n",
      "Kullanici adini giriniz.1234\n",
      "kullanici adi yanlış\n"
     ]
    }
   ],
   "source": [
    "kullanici_adi= input('Kullanici adini giriniz.')# klavyeden değer girme\n",
    "sifre= input('Kullanici adini giriniz.')\n",
    "\n",
    "kontrol=(kullanici_adi=='gokhan') and (sifre=='1234')\n",
    "if kullanici_adi=='gokhan':\n",
    "    if sifre=='1234':\n",
    "        print('Hoş geldin')\n",
    "    else:\n",
    "        print('parola yanlış')\n",
    "else:\n",
    "    print('kullanici adi yanlış')"
   ]
  },
  {
   "cell_type": "code",
   "execution_count": null,
   "metadata": {},
   "outputs": [],
   "source": []
  },
  {
   "cell_type": "code",
   "execution_count": null,
   "metadata": {},
   "outputs": [],
   "source": []
  }
 ],
 "metadata": {
  "kernelspec": {
   "display_name": "Python 3",
   "language": "python",
   "name": "python3"
  },
  "language_info": {
   "codemirror_mode": {
    "name": "ipython",
    "version": 3
   },
   "file_extension": ".py",
   "mimetype": "text/x-python",
   "name": "python",
   "nbconvert_exporter": "python",
   "pygments_lexer": "ipython3",
   "version": "3.8.5"
  }
 },
 "nbformat": 4,
 "nbformat_minor": 4
}
